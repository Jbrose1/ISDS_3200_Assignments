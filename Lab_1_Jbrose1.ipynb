{
 "cells": [
  {
   "cell_type": "code",
   "execution_count": 62,
   "id": "c249ca2c",
   "metadata": {},
   "outputs": [
    {
     "name": "stdout",
     "output_type": "stream",
     "text": [
      "Enter a lowercase statement: i love python3 it is so much fun\n",
      "fun\n",
      "i\n",
      "is\n",
      "it\n",
      "love\n",
      "much\n",
      "python3\n",
      "so\n"
     ]
    }
   ],
   "source": [
    "#Problem 1 Print the list in aphabetical order\n",
    "list = []\n",
    "statement = input(\"Enter a lowercase statement: \")\n",
    "\n",
    "list = statement.split(\" \")\n",
    "\n",
    "list.sort()\n",
    "for words in list:\n",
    "    print(words)"
   ]
  },
  {
   "cell_type": "code",
   "execution_count": 107,
   "id": "36117304",
   "metadata": {},
   "outputs": [
    {
     "name": "stdout",
     "output_type": "stream",
     "text": [
      "Enter your word: racecar\n",
      "The word is a palindrome\n"
     ]
    }
   ],
   "source": [
    "#Problem 2 detect if a word is a palindrome\n",
    "palindrome_list = []\n",
    "word_input = input(\"Enter your word: \")\n",
    "\n",
    "palindrome_list = word_input[::-1]\n",
    "\n",
    "if palindrome_list == word_input:\n",
    "    print(\"The word is a palindrome\")\n",
    "else:\n",
    "    print(\"The word is not a palindrome\")\n"
   ]
  }
 ],
 "metadata": {
  "kernelspec": {
   "display_name": "Python 3",
   "language": "python",
   "name": "python3"
  },
  "language_info": {
   "codemirror_mode": {
    "name": "ipython",
    "version": 3
   },
   "file_extension": ".py",
   "mimetype": "text/x-python",
   "name": "python",
   "nbconvert_exporter": "python",
   "pygments_lexer": "ipython3",
   "version": "3.8.8"
  }
 },
 "nbformat": 4,
 "nbformat_minor": 5
}
